{
 "cells": [
  {
   "cell_type": "code",
   "execution_count": 1,
   "metadata": {},
   "outputs": [
    {
     "name": "stdout",
     "output_type": "stream",
     "text": [
      "hello\n"
     ]
    }
   ],
   "source": [
    "print(\"hello\")"
   ]
  },
  {
   "cell_type": "code",
   "execution_count": 3,
   "metadata": {},
   "outputs": [
    {
     "name": "stdout",
     "output_type": "stream",
     "text": [
      "hello  aaa\n"
     ]
    }
   ],
   "source": [
    "print(\"hello  aaa\")"
   ]
  },
  {
   "cell_type": "code",
   "execution_count": 12,
   "metadata": {},
   "outputs": [
    {
     "name": "stdout",
     "output_type": "stream",
     "text": [
      "Enter Your Nameaaa\n",
      "Enter Your Father's namesss\n",
      "Enter Your University namebbb\n",
      "Enter Your Gpa2.0\n",
      "\n",
      "name:aaa\n",
      "father_name:sss\n",
      "University:bbb\n",
      "Gpa:2.0\n",
      "\n",
      "\n"
     ]
    }
   ],
   "source": [
    "name = input(\"Enter Your Name\")\n",
    "father_name = input (\"Enter Your Father's name\")\n",
    "University = input (\"Enter Your University name\")\n",
    "Gpa = input (\"Enter Your Gpa\")\n",
    "message =\"\"\"\n",
    "name:{}\n",
    "father_name:{}\n",
    "University:{}\n",
    "Gpa:{}\n",
    "\n",
    "\"\"\"\n",
    "message1 = message.format(name,father_name,University,Gpa)\n",
    "print(message1)"
   ]
  },
  {
   "cell_type": "code",
   "execution_count": null,
   "metadata": {},
   "outputs": [],
   "source": []
  }
 ],
 "metadata": {
  "kernelspec": {
   "display_name": "Python 3",
   "language": "python",
   "name": "python3"
  },
  "language_info": {
   "codemirror_mode": {
    "name": "ipython",
    "version": 3
   },
   "file_extension": ".py",
   "mimetype": "text/x-python",
   "name": "python",
   "nbconvert_exporter": "python",
   "pygments_lexer": "ipython3",
   "version": "3.7.4"
  }
 },
 "nbformat": 4,
 "nbformat_minor": 2
}
